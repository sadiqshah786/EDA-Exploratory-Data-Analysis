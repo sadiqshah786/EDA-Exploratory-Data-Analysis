{
 "cells": [
  {
   "cell_type": "markdown",
   "metadata": {},
   "source": [
    "# Titanic\n",
    "\n",
    "- The sinking of the Titanic is one of the most infamous shipwrecks in history. On April 15, 1912, during her maiden voyage, the Titanic sank after colliding with an iceberg, killing 1502 out of 2224 passengers and crew. That's why the name DieTanic. This is a very unforgetable disaster that no one in the world can forget.\n",
    "\n",
    "- It took about $7.5 million to build the Titanic and it sunk under the ocean due to collision. The Titanic Dataset is a very good dataset for begineers to start a journey in data science and participate in competitions in Kaggle.\n",
    "\n",
    "- The Objective of this notebook is to give an idea how is the workflow in any predictive modeling problem. How do we check features, how do we add new features and some Machine Learning Concepts. I have tried to keep the notebook as basic as possible so that even newbies can understand every phase of it."
   ]
  },
  {
   "cell_type": "markdown",
   "metadata": {},
   "source": [
    "<img src=\"https://wdfyfe.files.wordpress.com/2012/04/titanic.jpg\"\n",
    "    style=\"width:50%; margin: 0 auto \"></img>\n",
    "\n",
    "\n",
    "\n",
    "**DataSet**  :   [Titanic-Dataset](https://drive.google.com/drive/u/2/folders/13dpzjmBgQN-m0t9rw7K46fbHW-tJNqjM)\n"
   ]
  },
  {
   "cell_type": "markdown",
   "metadata": {},
   "source": [
    "### Contents of the Notebook:\n",
    "\n",
    "- ### Part 1 EDA (Data Exploratory Analysis:\n",
    "\n",
    "\n",
    "\n",
    " - Analysis of the features.\n",
    " \n",
    " - Finding any relations or trends considering multiple features.\n",
    " \n",
    " \n",
    "- ### Part 2: Feature Engineering and Data Cleaning:\n",
    "\n",
    "\n",
    " - Adding any few features.\n",
    "\n",
    " - Removing redundant features.\n",
    "\n",
    " - Converting features into suitable form for modeling.\n",
    " \n",
    " \n",
    "- ### Part3: Predictive Modeling\n",
    "\n",
    "\n",
    " - Running Basic Algorithms.\n",
    "\n",
    " - Cross Validation.\n",
    "\n",
    " - Ensembling.\n",
    "\n",
    " - Important Features Extraction."
   ]
  },
  {
   "cell_type": "markdown",
   "metadata": {},
   "source": [
    "## Part 1:  EDA -  Exploratory Data Analysis"
   ]
  },
  {
   "cell_type": "markdown",
   "metadata": {},
   "source": [
    "### Import Libraries"
   ]
  },
  {
   "cell_type": "code",
   "execution_count": 11,
   "metadata": {},
   "outputs": [],
   "source": [
    "import numpy as np\n",
    "import pandas as pd\n",
    "import matplotlib.pyplot as plt\n",
    "import seaborn as sns\n",
    "\n",
    "# For stylish plot\n",
    "plt.style.use('fivethirtyeight')\n",
    "\n",
    "import warnings\n",
    "warnings.filterwarnings('ignore')\n",
    "\n",
    "%matplotlib inline"
   ]
  },
  {
   "cell_type": "markdown",
   "metadata": {},
   "source": [
    "### Load data"
   ]
  },
  {
   "cell_type": "code",
   "execution_count": 12,
   "metadata": {},
   "outputs": [],
   "source": [
    "data = pd.read_csv('Titanic-Dataset.csv')"
   ]
  },
  {
   "cell_type": "code",
   "execution_count": 14,
   "metadata": {},
   "outputs": [
    {
     "data": {
      "text/html": [
       "<div>\n",
       "<style scoped>\n",
       "    .dataframe tbody tr th:only-of-type {\n",
       "        vertical-align: middle;\n",
       "    }\n",
       "\n",
       "    .dataframe tbody tr th {\n",
       "        vertical-align: top;\n",
       "    }\n",
       "\n",
       "    .dataframe thead th {\n",
       "        text-align: right;\n",
       "    }\n",
       "</style>\n",
       "<table border=\"1\" class=\"dataframe\">\n",
       "  <thead>\n",
       "    <tr style=\"text-align: right;\">\n",
       "      <th></th>\n",
       "      <th>PassengerId</th>\n",
       "      <th>Survived</th>\n",
       "      <th>Pclass</th>\n",
       "      <th>Name</th>\n",
       "      <th>Sex</th>\n",
       "      <th>Age</th>\n",
       "      <th>SibSp</th>\n",
       "      <th>Parch</th>\n",
       "      <th>Ticket</th>\n",
       "      <th>Fare</th>\n",
       "      <th>Cabin</th>\n",
       "      <th>Embarked</th>\n",
       "    </tr>\n",
       "  </thead>\n",
       "  <tbody>\n",
       "    <tr>\n",
       "      <th>0</th>\n",
       "      <td>1</td>\n",
       "      <td>0</td>\n",
       "      <td>3</td>\n",
       "      <td>Braund, Mr. Owen Harris</td>\n",
       "      <td>male</td>\n",
       "      <td>22.0</td>\n",
       "      <td>1</td>\n",
       "      <td>0</td>\n",
       "      <td>A/5 21171</td>\n",
       "      <td>7.2500</td>\n",
       "      <td>NaN</td>\n",
       "      <td>S</td>\n",
       "    </tr>\n",
       "    <tr>\n",
       "      <th>1</th>\n",
       "      <td>2</td>\n",
       "      <td>1</td>\n",
       "      <td>1</td>\n",
       "      <td>Cumings, Mrs. John Bradley (Florence Briggs Th...</td>\n",
       "      <td>female</td>\n",
       "      <td>38.0</td>\n",
       "      <td>1</td>\n",
       "      <td>0</td>\n",
       "      <td>PC 17599</td>\n",
       "      <td>71.2833</td>\n",
       "      <td>C85</td>\n",
       "      <td>C</td>\n",
       "    </tr>\n",
       "    <tr>\n",
       "      <th>2</th>\n",
       "      <td>3</td>\n",
       "      <td>1</td>\n",
       "      <td>3</td>\n",
       "      <td>Heikkinen, Miss. Laina</td>\n",
       "      <td>female</td>\n",
       "      <td>26.0</td>\n",
       "      <td>0</td>\n",
       "      <td>0</td>\n",
       "      <td>STON/O2. 3101282</td>\n",
       "      <td>7.9250</td>\n",
       "      <td>NaN</td>\n",
       "      <td>S</td>\n",
       "    </tr>\n",
       "    <tr>\n",
       "      <th>3</th>\n",
       "      <td>4</td>\n",
       "      <td>1</td>\n",
       "      <td>1</td>\n",
       "      <td>Futrelle, Mrs. Jacques Heath (Lily May Peel)</td>\n",
       "      <td>female</td>\n",
       "      <td>35.0</td>\n",
       "      <td>1</td>\n",
       "      <td>0</td>\n",
       "      <td>113803</td>\n",
       "      <td>53.1000</td>\n",
       "      <td>C123</td>\n",
       "      <td>S</td>\n",
       "    </tr>\n",
       "    <tr>\n",
       "      <th>4</th>\n",
       "      <td>5</td>\n",
       "      <td>0</td>\n",
       "      <td>3</td>\n",
       "      <td>Allen, Mr. William Henry</td>\n",
       "      <td>male</td>\n",
       "      <td>35.0</td>\n",
       "      <td>0</td>\n",
       "      <td>0</td>\n",
       "      <td>373450</td>\n",
       "      <td>8.0500</td>\n",
       "      <td>NaN</td>\n",
       "      <td>S</td>\n",
       "    </tr>\n",
       "  </tbody>\n",
       "</table>\n",
       "</div>"
      ],
      "text/plain": [
       "   PassengerId  Survived  Pclass  \\\n",
       "0            1         0       3   \n",
       "1            2         1       1   \n",
       "2            3         1       3   \n",
       "3            4         1       1   \n",
       "4            5         0       3   \n",
       "\n",
       "                                                Name     Sex   Age  SibSp  \\\n",
       "0                            Braund, Mr. Owen Harris    male  22.0      1   \n",
       "1  Cumings, Mrs. John Bradley (Florence Briggs Th...  female  38.0      1   \n",
       "2                             Heikkinen, Miss. Laina  female  26.0      0   \n",
       "3       Futrelle, Mrs. Jacques Heath (Lily May Peel)  female  35.0      1   \n",
       "4                           Allen, Mr. William Henry    male  35.0      0   \n",
       "\n",
       "   Parch            Ticket     Fare Cabin Embarked  \n",
       "0      0         A/5 21171   7.2500   NaN        S  \n",
       "1      0          PC 17599  71.2833   C85        C  \n",
       "2      0  STON/O2. 3101282   7.9250   NaN        S  \n",
       "3      0            113803  53.1000  C123        S  \n",
       "4      0            373450   8.0500   NaN        S  "
      ]
     },
     "execution_count": 14,
     "metadata": {},
     "output_type": "execute_result"
    }
   ],
   "source": [
    "data.head()"
   ]
  },
  {
   "cell_type": "markdown",
   "metadata": {},
   "source": [
    "### Checking for total null values"
   ]
  },
  {
   "cell_type": "code",
   "execution_count": 22,
   "metadata": {},
   "outputs": [
    {
     "data": {
      "text/plain": [
       "PassengerId      0\n",
       "Survived         0\n",
       "Pclass           0\n",
       "Name             0\n",
       "Sex              0\n",
       "Age            177\n",
       "SibSp            0\n",
       "Parch            0\n",
       "Ticket           0\n",
       "Fare             0\n",
       "Cabin          687\n",
       "Embarked         2\n",
       "dtype: int64"
      ]
     },
     "execution_count": 22,
     "metadata": {},
     "output_type": "execute_result"
    }
   ],
   "source": [
    "data.isnull().sum()"
   ]
  },
  {
   "cell_type": "markdown",
   "metadata": {},
   "source": [
    " - The Age, Cabin and Embarked have null values. I will try to fix them.\n",
    " ----------------------------------------------------------------------------"
   ]
  },
  {
   "cell_type": "markdown",
   "metadata": {},
   "source": [
    "### Number of Survived "
   ]
  },
  {
   "cell_type": "code",
   "execution_count": 81,
   "metadata": {},
   "outputs": [
    {
     "name": "stdout",
     "output_type": "stream",
     "text": [
      "Total People in titanic :  891\n",
      "UnSurvived-0 :  549\n",
      "Survived-1 :  342\n"
     ]
    }
   ],
   "source": [
    "print(\"Total People in titanic : \" , data['Survived'].count())\n",
    "print(\"UnSurvived-0 : \" , data['Survived'].value_counts()[0])\n",
    "print(\"Survived-1 : \" , data['Survived'].value_counts()[1])"
   ]
  },
  {
   "cell_type": "code",
   "execution_count": 64,
   "metadata": {},
   "outputs": [
    {
     "data": {
      "image/png": "[encoded data removed]",
      "text/plain": [
       "<Figure size 1296x576 with 2 Axes>"
      ]
     },
     "metadata": {
      "needs_background": "light"
     },
     "output_type": "display_data"
    }
   ],
   "source": [
    "f,ax = plt.subplots(1,2 ,figsize=(18,8))\n",
    "\n",
    "#pie Chart \n",
    "data['Survived'].value_counts().plot.pie(explode=[0,0.1],autopct='%1.2f%%',fontsize=15,ax=ax[0],shadow=True)\n",
    "ax[0].set_title(\"Survived\")\n",
    "\n",
    "\n",
    "\n",
    "#2nd plot - Countplor\n",
    "sns.countplot('Survived',data=data , ax=ax[1])\n",
    "\n",
    "plt.show()"
   ]
  },
  {
   "cell_type": "markdown",
   "metadata": {},
   "source": [
    "- Out of 891 passengers in training set, only around 350 survived  Only **38.4%** of the total training set survived the crash."
   ]
  },
  {
   "cell_type": "markdown",
   "metadata": {},
   "source": [
    "# Types Of Features\n",
    "### Categorical Features:\n",
    " - categorical variable is one that has two or more categories and each value in that feature can be categorised by them.For example, gender is a categorical variable having two categories (male and female). Now we cannot sort or give any ordering to such variables. They are also known as Nominal Variables.\n",
    " - Categorical Features in the dataset: Sex,Embarked.\n",
    "\n",
    "### Ordinal Features:\n",
    " - An ordinal variable is similar to categorical values, but the difference between them is that we can have relative ordering or sorting between the values. For eg: If we have a feature like Height with values Tall, Medium, Short, then Height is a ordinal variable. Here we can have a relative sort in the variable.\n",
    " - Ordinal Features in the dataset: PClass\n",
    "\n",
    "### Continous Feature:\n",
    "- A feature is said to be continous if it can take values between any two points or between the minimum or maximum values in the features column.\n",
    "- Continous Features in the dataset: Age"
   ]
  },
  {
   "cell_type": "markdown",
   "metadata": {},
   "source": [
    "## Analysing The Features\n",
    "---------------------------------------"
   ]
  },
  {
   "cell_type": "markdown",
   "metadata": {},
   "source": [
    "- ###  Sex  (Categorical Feature)"
   ]
  },
  {
   "cell_type": "code",
   "execution_count": 137,
   "metadata": {},
   "outputs": [
    {
     "data": {
      "text/plain": [
       "Sex     Survived\n",
       "female  0            81\n",
       "        1           233\n",
       "male    0           468\n",
       "        1           109\n",
       "Name: Survived, dtype: int64"
      ]
     },
     "execution_count": 137,
     "metadata": {},
     "output_type": "execute_result"
    }
   ],
   "source": [
    "data.groupby(['Sex','Survived'])['Survived'].count()"
   ]
  },
  {
   "cell_type": "code",
   "execution_count": 138,
   "metadata": {},
   "outputs": [
    {
     "data": {
      "text/html": [
       "<style  type=\"text/css\" >\n",
       "    #T_697b5b68_3f16_11eb_b273_c01885b8ea78row0_col0 {\n",
       "            background-color:  #ffff66;\n",
       "            color:  #000000;\n",
       "        }    #T_697b5b68_3f16_11eb_b273_c01885b8ea78row0_col1 {\n",
       "            background-color:  #77bb66;\n",
       "            color:  #000000;\n",
       "        }    #T_697b5b68_3f16_11eb_b273_c01885b8ea78row0_col2 {\n",
       "            background-color:  #ffff66;\n",
       "            color:  #000000;\n",
       "        }    #T_697b5b68_3f16_11eb_b273_c01885b8ea78row1_col0 {\n",
       "            background-color:  #2c9666;\n",
       "            color:  #000000;\n",
       "        }    #T_697b5b68_3f16_11eb_b273_c01885b8ea78row1_col1 {\n",
       "            background-color:  #ffff66;\n",
       "            color:  #000000;\n",
       "        }    #T_697b5b68_3f16_11eb_b273_c01885b8ea78row1_col2 {\n",
       "            background-color:  #8bc566;\n",
       "            color:  #000000;\n",
       "        }    #T_697b5b68_3f16_11eb_b273_c01885b8ea78row2_col0 {\n",
       "            background-color:  #008066;\n",
       "            color:  #f1f1f1;\n",
       "        }    #T_697b5b68_3f16_11eb_b273_c01885b8ea78row2_col1 {\n",
       "            background-color:  #008066;\n",
       "            color:  #f1f1f1;\n",
       "        }    #T_697b5b68_3f16_11eb_b273_c01885b8ea78row2_col2 {\n",
       "            background-color:  #008066;\n",
       "            color:  #f1f1f1;\n",
       "        }</style><table id=\"T_697b5b68_3f16_11eb_b273_c01885b8ea78\" ><thead>    <tr>        <th class=\"index_name level0\" >Survived</th>        <th class=\"col_heading level0 col0\" >0</th>        <th class=\"col_heading level0 col1\" >1</th>        <th class=\"col_heading level0 col2\" >All</th>    </tr>    <tr>        <th class=\"index_name level0\" >Sex</th>        <th class=\"blank\" ></th>        <th class=\"blank\" ></th>        <th class=\"blank\" ></th>    </tr></thead><tbody>\n",
       "                <tr>\n",
       "                        <th id=\"T_697b5b68_3f16_11eb_b273_c01885b8ea78level0_row0\" class=\"row_heading level0 row0\" >female</th>\n",
       "                        <td id=\"T_697b5b68_3f16_11eb_b273_c01885b8ea78row0_col0\" class=\"data row0 col0\" >81</td>\n",
       "                        <td id=\"T_697b5b68_3f16_11eb_b273_c01885b8ea78row0_col1\" class=\"data row0 col1\" >233</td>\n",
       "                        <td id=\"T_697b5b68_3f16_11eb_b273_c01885b8ea78row0_col2\" class=\"data row0 col2\" >314</td>\n",
       "            </tr>\n",
       "            <tr>\n",
       "                        <th id=\"T_697b5b68_3f16_11eb_b273_c01885b8ea78level0_row1\" class=\"row_heading level0 row1\" >male</th>\n",
       "                        <td id=\"T_697b5b68_3f16_11eb_b273_c01885b8ea78row1_col0\" class=\"data row1 col0\" >468</td>\n",
       "                        <td id=\"T_697b5b68_3f16_11eb_b273_c01885b8ea78row1_col1\" class=\"data row1 col1\" >109</td>\n",
       "                        <td id=\"T_697b5b68_3f16_11eb_b273_c01885b8ea78row1_col2\" class=\"data row1 col2\" >577</td>\n",
       "            </tr>\n",
       "            <tr>\n",
       "                        <th id=\"T_697b5b68_3f16_11eb_b273_c01885b8ea78level0_row2\" class=\"row_heading level0 row2\" >All</th>\n",
       "                        <td id=\"T_697b5b68_3f16_11eb_b273_c01885b8ea78row2_col0\" class=\"data row2 col0\" >549</td>\n",
       "                        <td id=\"T_697b5b68_3f16_11eb_b273_c01885b8ea78row2_col1\" class=\"data row2 col1\" >342</td>\n",
       "                        <td id=\"T_697b5b68_3f16_11eb_b273_c01885b8ea78row2_col2\" class=\"data row2 col2\" >891</td>\n",
       "            </tr>\n",
       "    </tbody></table>"
      ],
      "text/plain": [
       "<pandas.io.formats.style.Styler at 0x1cd1d39d948>"
      ]
     },
     "execution_count": 138,
     "metadata": {},
     "output_type": "execute_result"
    }
   ],
   "source": [
    "pd.crosstab(data['Sex'],data.Survived,margins=True).style.background_gradient(cmap='summer_r')\n"
   ]
  },
  {
   "cell_type": "code",
   "execution_count": 139,
   "metadata": {},
   "outputs": [
    {
     "data": {
      "image/png": "[encoded data removed]",
      "text/plain": [
       "<Figure size 1296x576 with 2 Axes>"
      ]
     },
     "metadata": {
      "needs_background": "light"
     },
     "output_type": "display_data"
    }
   ],
   "source": [
    "f,ax = plt.subplots(1,2,figsize=(18,8))\n",
    "\n",
    "\n",
    "data[['Sex','Survived']].groupby(['Sex']).mean().plot.bar(ax=ax[0])\n",
    "ax[0].set_title(\"Survived A/c Sex\")\n",
    "\n",
    "# Countplot\n",
    "ax[1].set_title(\"Survived & Unservived A/c Sex\")\n",
    "\n",
    "sns.countplot(\"Survived\" , hue='Sex' , data=data , ax=ax[1])\n",
    "\n",
    "plt.show()\n"
   ]
  },
  {
   "cell_type": "markdown",
   "metadata": {},
   "source": [
    "- This looks interesting. The number of men on the ship is lot more than the number of women. Still the number of women saved is almost twice the number of males saved. The survival rates for a women on the ship is around 75% while that for men in around 18-19%."
   ]
  },
  {
   "cell_type": "code",
   "execution_count": 140,
   "metadata": {},
   "outputs": [
    {
     "data": {
      "text/html": [
       "<style  type=\"text/css\" >\n",
       "    #T_6a6709a6_3f16_11eb_9ee8_c01885b8ea78row0_col0 {\n",
       "            background-color:  #ffff66;\n",
       "            color:  #000000;\n",
       "        }    #T_6a6709a6_3f16_11eb_9ee8_c01885b8ea78row0_col1 {\n",
       "            background-color:  #77bb66;\n",
       "            color:  #000000;\n",
       "        }    #T_6a6709a6_3f16_11eb_9ee8_c01885b8ea78row0_col2 {\n",
       "            background-color:  #ffff66;\n",
       "            color:  #000000;\n",
       "        }    #T_6a6709a6_3f16_11eb_9ee8_c01885b8ea78row1_col0 {\n",
       "            background-color:  #2c9666;\n",
       "            color:  #000000;\n",
       "        }    #T_6a6709a6_3f16_11eb_9ee8_c01885b8ea78row1_col1 {\n",
       "            background-color:  #ffff66;\n",
       "            color:  #000000;\n",
       "        }    #T_6a6709a6_3f16_11eb_9ee8_c01885b8ea78row1_col2 {\n",
       "            background-color:  #8bc566;\n",
       "            color:  #000000;\n",
       "        }    #T_6a6709a6_3f16_11eb_9ee8_c01885b8ea78row2_col0 {\n",
       "            background-color:  #008066;\n",
       "            color:  #f1f1f1;\n",
       "        }    #T_6a6709a6_3f16_11eb_9ee8_c01885b8ea78row2_col1 {\n",
       "            background-color:  #008066;\n",
       "            color:  #f1f1f1;\n",
       "        }    #T_6a6709a6_3f16_11eb_9ee8_c01885b8ea78row2_col2 {\n",
       "            background-color:  #008066;\n",
       "            color:  #f1f1f1;\n",
       "        }</style><table id=\"T_6a6709a6_3f16_11eb_9ee8_c01885b8ea78\" ><thead>    <tr>        <th class=\"index_name level0\" >Survived</th>        <th class=\"col_heading level0 col0\" >0</th>        <th class=\"col_heading level0 col1\" >1</th>        <th class=\"col_heading level0 col2\" >All</th>    </tr>    <tr>        <th class=\"index_name level0\" >Sex</th>        <th class=\"blank\" ></th>        <th class=\"blank\" ></th>        <th class=\"blank\" ></th>    </tr></thead><tbody>\n",
       "                <tr>\n",
       "                        <th id=\"T_6a6709a6_3f16_11eb_9ee8_c01885b8ea78level0_row0\" class=\"row_heading level0 row0\" >female</th>\n",
       "                        <td id=\"T_6a6709a6_3f16_11eb_9ee8_c01885b8ea78row0_col0\" class=\"data row0 col0\" >81</td>\n",
       "                        <td id=\"T_6a6709a6_3f16_11eb_9ee8_c01885b8ea78row0_col1\" class=\"data row0 col1\" >233</td>\n",
       "                        <td id=\"T_6a6709a6_3f16_11eb_9ee8_c01885b8ea78row0_col2\" class=\"data row0 col2\" >314</td>\n",
       "            </tr>\n",
       "            <tr>\n",
       "                        <th id=\"T_6a6709a6_3f16_11eb_9ee8_c01885b8ea78level0_row1\" class=\"row_heading level0 row1\" >male</th>\n",
       "                        <td id=\"T_6a6709a6_3f16_11eb_9ee8_c01885b8ea78row1_col0\" class=\"data row1 col0\" >468</td>\n",
       "                        <td id=\"T_6a6709a6_3f16_11eb_9ee8_c01885b8ea78row1_col1\" class=\"data row1 col1\" >109</td>\n",
       "                        <td id=\"T_6a6709a6_3f16_11eb_9ee8_c01885b8ea78row1_col2\" class=\"data row1 col2\" >577</td>\n",
       "            </tr>\n",
       "            <tr>\n",
       "                        <th id=\"T_6a6709a6_3f16_11eb_9ee8_c01885b8ea78level0_row2\" class=\"row_heading level0 row2\" >All</th>\n",
       "                        <td id=\"T_6a6709a6_3f16_11eb_9ee8_c01885b8ea78row2_col0\" class=\"data row2 col0\" >549</td>\n",
       "                        <td id=\"T_6a6709a6_3f16_11eb_9ee8_c01885b8ea78row2_col1\" class=\"data row2 col1\" >342</td>\n",
       "                        <td id=\"T_6a6709a6_3f16_11eb_9ee8_c01885b8ea78row2_col2\" class=\"data row2 col2\" >891</td>\n",
       "            </tr>\n",
       "    </tbody></table>"
      ],
      "text/plain": [
       "<pandas.io.formats.style.Styler at 0x1cd1dad33c8>"
      ]
     },
     "execution_count": 140,
     "metadata": {},
     "output_type": "execute_result"
    }
   ],
   "source": [
    "pd.crosstab(data['Sex'],data.Survived,margins=True).style.background_gradient(cmap='summer_r')\n"
   ]
  },
  {
   "cell_type": "markdown",
   "metadata": {},
   "source": [
    "- ## Pclass (Ordinal Feature)"
   ]
  },
  {
   "cell_type": "code",
   "execution_count": 141,
   "metadata": {},
   "outputs": [
    {
     "data": {
      "text/html": [
       "<style  type=\"text/css\" >\n",
       "    #T_6ad84590_3f16_11eb_8380_c01885b8ea78row0_col0 {\n",
       "            background-color:  #ffff66;\n",
       "            color:  #000000;\n",
       "        }    #T_6ad84590_3f16_11eb_8380_c01885b8ea78row0_col1 {\n",
       "            background-color:  #cee666;\n",
       "            color:  #000000;\n",
       "        }    #T_6ad84590_3f16_11eb_8380_c01885b8ea78row0_col2 {\n",
       "            background-color:  #f4fa66;\n",
       "            color:  #000000;\n",
       "        }    #T_6ad84590_3f16_11eb_8380_c01885b8ea78row1_col0 {\n",
       "            background-color:  #f6fa66;\n",
       "            color:  #000000;\n",
       "        }    #T_6ad84590_3f16_11eb_8380_c01885b8ea78row1_col1 {\n",
       "            background-color:  #ffff66;\n",
       "            color:  #000000;\n",
       "        }    #T_6ad84590_3f16_11eb_8380_c01885b8ea78row1_col2 {\n",
       "            background-color:  #ffff66;\n",
       "            color:  #000000;\n",
       "        }    #T_6ad84590_3f16_11eb_8380_c01885b8ea78row2_col0 {\n",
       "            background-color:  #60b066;\n",
       "            color:  #000000;\n",
       "        }    #T_6ad84590_3f16_11eb_8380_c01885b8ea78row2_col1 {\n",
       "            background-color:  #dfef66;\n",
       "            color:  #000000;\n",
       "        }    #T_6ad84590_3f16_11eb_8380_c01885b8ea78row2_col2 {\n",
       "            background-color:  #90c866;\n",
       "            color:  #000000;\n",
       "        }    #T_6ad84590_3f16_11eb_8380_c01885b8ea78row3_col0 {\n",
       "            background-color:  #008066;\n",
       "            color:  #f1f1f1;\n",
       "        }    #T_6ad84590_3f16_11eb_8380_c01885b8ea78row3_col1 {\n",
       "            background-color:  #008066;\n",
       "            color:  #f1f1f1;\n",
       "        }    #T_6ad84590_3f16_11eb_8380_c01885b8ea78row3_col2 {\n",
       "            background-color:  #008066;\n",
       "            color:  #f1f1f1;\n",
       "        }</style><table id=\"T_6ad84590_3f16_11eb_8380_c01885b8ea78\" ><thead>    <tr>        <th class=\"index_name level0\" >Survived</th>        <th class=\"col_heading level0 col0\" >0</th>        <th class=\"col_heading level0 col1\" >1</th>        <th class=\"col_heading level0 col2\" >All</th>    </tr>    <tr>        <th class=\"index_name level0\" >Pclass</th>        <th class=\"blank\" ></th>        <th class=\"blank\" ></th>        <th class=\"blank\" ></th>    </tr></thead><tbody>\n",
       "                <tr>\n",
       "                        <th id=\"T_6ad84590_3f16_11eb_8380_c01885b8ea78level0_row0\" class=\"row_heading level0 row0\" >1</th>\n",
       "                        <td id=\"T_6ad84590_3f16_11eb_8380_c01885b8ea78row0_col0\" class=\"data row0 col0\" >80</td>\n",
       "                        <td id=\"T_6ad84590_3f16_11eb_8380_c01885b8ea78row0_col1\" class=\"data row0 col1\" >136</td>\n",
       "                        <td id=\"T_6ad84590_3f16_11eb_8380_c01885b8ea78row0_col2\" class=\"data row0 col2\" >216</td>\n",
       "            </tr>\n",
       "            <tr>\n",
       "                        <th id=\"T_6ad84590_3f16_11eb_8380_c01885b8ea78level0_row1\" class=\"row_heading level0 row1\" >2</th>\n",
       "                        <td id=\"T_6ad84590_3f16_11eb_8380_c01885b8ea78row1_col0\" class=\"data row1 col0\" >97</td>\n",
       "                        <td id=\"T_6ad84590_3f16_11eb_8380_c01885b8ea78row1_col1\" class=\"data row1 col1\" >87</td>\n",
       "                        <td id=\"T_6ad84590_3f16_11eb_8380_c01885b8ea78row1_col2\" class=\"data row1 col2\" >184</td>\n",
       "            </tr>\n",
       "            <tr>\n",
       "                        <th id=\"T_6ad84590_3f16_11eb_8380_c01885b8ea78level0_row2\" class=\"row_heading level0 row2\" >3</th>\n",
       "                        <td id=\"T_6ad84590_3f16_11eb_8380_c01885b8ea78row2_col0\" class=\"data row2 col0\" >372</td>\n",
       "                        <td id=\"T_6ad84590_3f16_11eb_8380_c01885b8ea78row2_col1\" class=\"data row2 col1\" >119</td>\n",
       "                        <td id=\"T_6ad84590_3f16_11eb_8380_c01885b8ea78row2_col2\" class=\"data row2 col2\" >491</td>\n",
       "            </tr>\n",
       "            <tr>\n",
       "                        <th id=\"T_6ad84590_3f16_11eb_8380_c01885b8ea78level0_row3\" class=\"row_heading level0 row3\" >All</th>\n",
       "                        <td id=\"T_6ad84590_3f16_11eb_8380_c01885b8ea78row3_col0\" class=\"data row3 col0\" >549</td>\n",
       "                        <td id=\"T_6ad84590_3f16_11eb_8380_c01885b8ea78row3_col1\" class=\"data row3 col1\" >342</td>\n",
       "                        <td id=\"T_6ad84590_3f16_11eb_8380_c01885b8ea78row3_col2\" class=\"data row3 col2\" >891</td>\n",
       "            </tr>\n",
       "    </tbody></table>"
      ],
      "text/plain": [
       "<pandas.io.formats.style.Styler at 0x1cd1dae9dc8>"
      ]
     },
     "execution_count": 141,
     "metadata": {},
     "output_type": "execute_result"
    }
   ],
   "source": [
    "pd.crosstab(data['Pclass'],data.Survived,margins=True).style.background_gradient(cmap='summer_r')\n",
    "# pd.crosstab(data.Pclass,data.Survived,margins=True).style.background_gradient(cmap='summer_r')"
   ]
  },
  {
   "cell_type": "code",
   "execution_count": 142,
   "metadata": {},
   "outputs": [
    {
     "data": {
      "image/png": "[encoded data removed]",
      "text/plain": [
       "<Figure size 1296x576 with 2 Axes>"
      ]
     },
     "metadata": {
      "needs_background": "light"
     },
     "output_type": "display_data"
    }
   ],
   "source": [
    "f,ax=plt.subplots(1,2,figsize=(18,8))\n",
    "data['Pclass'].value_counts().plot.bar(color=['#CD7F32','#FFDF00','#D3D3D3'],ax=ax[0])\n",
    "ax[0].set_title('Number Of Passengers By Pclass')\n",
    "ax[0].set_ylabel('Count')\n",
    "sns.countplot('Pclass',hue='Survived',data=data,ax=ax[1])\n",
    "ax[1].set_title('Pclass:Survived vs Dead')\n",
    "plt.show()"
   ]
  },
  {
   "cell_type": "code",
   "execution_count": null,
   "metadata": {},
   "outputs": [],
   "source": []
  }
 ],
 "metadata": {
  "kernelspec": {
   "display_name": "Python 3",
   "language": "python",
   "name": "python3"
  },
  "language_info": {
   "codemirror_mode": {
    "name": "ipython",
    "version": 3
   },
   "file_extension": ".py",
   "mimetype": "text/x-python",
   "name": "python",
   "nbconvert_exporter": "python",
   "pygments_lexer": "ipython3",
   "version": "3.7.6"
  }
 },
 "nbformat": 4,
 "nbformat_minor": 4
}
